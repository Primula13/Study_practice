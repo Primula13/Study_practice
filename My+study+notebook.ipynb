{
 "cells": [
  {
   "cell_type": "code",
   "execution_count": 7,
   "metadata": {
    "collapsed": false
   },
   "outputs": [
    {
     "name": "stdout",
     "output_type": "stream",
     "text": [
      "55251\n"
     ]
    }
   ],
   "source": [
    "# method 1\n",
    "number = [x for x in range(1000,1000000)]\n",
    "total=0\n",
    "for n in number:\n",
    "    if 1000<=n<10000:\n",
    "        a=n%10\n",
    "        n=n//10\n",
    "        b=n%10\n",
    "        n=n//10\n",
    "        c=n%10\n",
    "        n=n//10\n",
    "        d=n%10\n",
    "        e=0\n",
    "        f=0\n",
    "        if a+b+c==d+e+f:\n",
    "            total=total+1\n",
    "    elif 10000<=n<100000:\n",
    "        a=n%10\n",
    "        n=n//10\n",
    "        b=n%10\n",
    "        n=n//10\n",
    "        c=n%10\n",
    "        n=n//10\n",
    "        d=n%10\n",
    "        n=n//10\n",
    "        e=n%10\n",
    "        f=0\n",
    "        if a+b+c==d+e+f:\n",
    "            total=total+1\n",
    "    elif n>=100000:\n",
    "        a=n%10\n",
    "        n=n//10\n",
    "        b=n%10\n",
    "        n=n//10\n",
    "        c=n%10\n",
    "        n=n//10\n",
    "        d=n%10\n",
    "        n=n//10\n",
    "        e=n%10\n",
    "        f=n//10\n",
    "        if a+b+c==d+e+f:\n",
    "            total=total+1\n",
    "print (total)"
   ]
  },
  {
   "cell_type": "code",
   "execution_count": 1,
   "metadata": {
    "collapsed": false
   },
   "outputs": [
    {
     "name": "stdout",
     "output_type": "stream",
     "text": [
      "Amount of happy tickets is 55251\n"
     ]
    }
   ],
   "source": [
    "# method 2\n",
    "total=0\n",
    "for n in range(1000,1000000):\n",
    "    a=sum([int(ch) for ch in str(n%1000)])\n",
    "    b=sum([int(ch) for ch in str(n//1000)])\n",
    "    if a==b:\n",
    "        total=total+1\n",
    "print('Amount of happy tickets is %d' % total)"
   ]
  },
  {
   "cell_type": "code",
   "execution_count": 1,
   "metadata": {
    "collapsed": false
   },
   "outputs": [
    {
     "name": "stdout",
     "output_type": "stream",
     "text": [
      "Amount of happy tickets is 55251\n"
     ]
    }
   ],
   "source": [
    "# method 3\n",
    "total = 0\n",
    "for x in range(1000):\n",
    "    for y in range(1000):\n",
    "        if sum([int(ch) for ch in str(x)])==sum([int(ch)for ch in str(y)]):\n",
    "            total = total+1\n",
    "total = total-1\n",
    "print('Amount of happy tickets is %d' % total)"
   ]
  },
  {
   "cell_type": "code",
   "execution_count": 4,
   "metadata": {
    "collapsed": false
   },
   "outputs": [
    {
     "name": "stdout",
     "output_type": "stream",
     "text": [
      "Amount of happy tickets is 55251\n"
     ]
    }
   ],
   "source": [
    "# method 4\n",
    "total=0\n",
    "for x in range(1000):\n",
    "    for y in range(1000):\n",
    "        a=x//100+(x%100)//10+(x%100)%10\n",
    "        b=y//100+(y%100)//10+(y%100)%10\n",
    "        if a==b:\n",
    "            total=total+1\n",
    "total=total-1 # except equation 0=0\n",
    "print('Amount of happy tickets is %d' % total)"
   ]
  },
  {
   "cell_type": "code",
   "execution_count": null,
   "metadata": {
    "collapsed": true
   },
   "outputs": [],
   "source": []
  }
 ],
 "metadata": {
  "kernelspec": {
   "display_name": "Python 3",
   "language": "python",
   "name": "python3"
  },
  "language_info": {
   "codemirror_mode": {
    "name": "ipython",
    "version": 3
   },
   "file_extension": ".py",
   "mimetype": "text/x-python",
   "name": "python",
   "nbconvert_exporter": "python",
   "pygments_lexer": "ipython3",
   "version": "3.6.0"
  }
 },
 "nbformat": 4,
 "nbformat_minor": 2
}
